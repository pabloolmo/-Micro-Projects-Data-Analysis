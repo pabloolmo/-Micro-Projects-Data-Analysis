{
 "cells": [
  {
   "cell_type": "markdown",
   "metadata": {},
   "source": [
    "# Data Analysis 2021 - Coursework 1 (35%)\n",
    "***\n",
    "## Deadline: week 6, 2pm"
   ]
  },
  {
   "cell_type": "markdown",
   "metadata": {},
   "source": [
    "***"
   ]
  },
  {
   "cell_type": "markdown",
   "metadata": {},
   "source": [
    "## Instructions"
   ]
  },
  {
   "cell_type": "markdown",
   "metadata": {},
   "source": [
    "This coursework assesses learning outcomes from **Chapters 1 - 4** of the course."
   ]
  },
  {
   "cell_type": "markdown",
   "metadata": {},
   "source": [
    "**These assessments are equivalent to an exam**:\n",
    "- Submit your work via Turn-It-In on Learning Central. Note that you will need to upload your final notebook exported as a pdf. **Don't forget to execute all of your cells before you export the notebook to pdf**. You can constantly resubmit your turnitin document until the deadline.\n",
    "- The breakdown of the assessment criteria is provided in Learning Central under Assessment.\n",
    "- Don't worry about how your code looks - marks are not given for pretty code, but rather for the approach used in solving the problem, your reasoning, explanation and answer.\n",
    "- Please also take note of the University’s policy on **plagiarism**, which is outlined in your student handbook."
   ]
  },
  {
   "cell_type": "markdown",
   "metadata": {},
   "source": [
    "***"
   ]
  },
  {
   "cell_type": "markdown",
   "metadata": {},
   "source": [
    "## QUESTION 1"
   ]
  },
  {
   "cell_type": "markdown",
   "metadata": {},
   "source": [
    "A student is taking three modules, and the probability that they pass any individual module depends on the fraction of the weekly live sessions they attend $f$ so that the probability of passing the module is 0.9$f$. \n",
    "\n",
    "a.) If the student attends all the weekly live sessions, ($f =1$), calculate the probability that they\n",
    "will \n",
    "\n",
    "    (i) pass all three modules, \n",
    "    (ii) fail one module and pass the other two \n",
    "    (iii) pass only one module, \n",
    "    (iv) pass no modules. \n",
    "\n",
    "b.) Show that the sum of these four probabilities is 1.\n",
    "\n",
    "c.) Calculate the four probabilities on the assumption that the student attends only\n",
    "half of the weekly live sessions.\n",
    "\n",
    "d.) What fraction of weekly live sessions must the student attend to have a 50% chance of\n",
    "passing all three modules? \n",
    "\n",
    "e.) Is this a realistic way to model the probability that the student will pass the\n",
    "modules?\n",
    "\n",
    "**[10 marks]**"
   ]
  },
  {
   "cell_type": "markdown",
   "metadata": {},
   "source": [
    "**Answer**:"
   ]
  },
  {
   "cell_type": "markdown",
   "metadata": {},
   "source": [
    "A)"
   ]
  },
  {
   "cell_type": "markdown",
   "metadata": {},
   "source": [
    "As the question 1.a) says,The fraction of the weekly live sessions they attend $f=1$ takes the value of $f=1$.The probability of the event \"passing the module\" (for now on, event A) ocurring is given by $P(A)=0.9·f=0.9 $ \n",
    "Thus,the probability of \"no passing the module\" is given by $P(A^c) = 1 - P(A)= 1-0.9=0.1$. We will take   $n=3$ because the student is taking 3 modules.\n",
    "\n",
    "Now, we will calculate the probability for each case:\n",
    "\n",
    "\n",
    "i)      $P_1=n·c_1·P(A)^3 =3·(1/3)·(0.9)^3=0.729$ \n",
    "\n",
    "ii)     $P_2=n·c_2·P(A)^2 ·P(A^c)            =3·(0.9)^2·(0.1)=0.243$ \n",
    "\n",
    "iii)    $P_3=n·c_3·P(A)·P(A^c)^2              =3·(0.9)·(0.1)^2=0.027$ \n",
    "\n",
    " iv)    $P_4=n·c_4·P(A^c)^3          =3·(1/3)· (0.1)^3=0.001$ "
   ]
  },
  {
   "cell_type": "markdown",
   "metadata": {},
   "source": [
    "B)"
   ]
  },
  {
   "cell_type": "markdown",
   "metadata": {},
   "source": [
    "It's almost direct to show that\n",
    "$P_1+ P_2+ P_3+ P_4=0.729+0.243+0.027+0.001= 1$"
   ]
  },
  {
   "cell_type": "markdown",
   "metadata": {},
   "source": [
    "C)"
   ]
  },
  {
   "cell_type": "markdown",
   "metadata": {},
   "source": [
    "As the question 1.c) says,The fraction of the weekly live sessions they attend $f$ takes the value of $f=0.5$.The probability of the event \"passing the module\" (for now on, event A) ocurring is given by $P(A)=0.9·f=0.9·0.5=0.45 $ \n",
    "Thus,the probability of \"no passing the module\" is given by \n",
    "$P(A^c) = 1 - P(A)= 1-0.45=0.55$.We will take   $n=3$ because the student is taking 3 modules.\n",
    "\n",
    "i)      $P_1=n·c_1·P(A)^3 =3·(1/3)·(0.45)^3=0.091$ \n",
    "\n",
    "ii)     $P_2=n·c_2·P(A)^2 ·P(A^c)            =3·(0.45)^2·(0.55)=0.334$ \n",
    "\n",
    "iii)    $P_3=n·c_3·P(A)·P(A^c)^2            =3·(0.45)·(0.55)^2=0.408$ \n",
    "\n",
    " iv)    $P_4=n·c_4·P(A^c)^3          =3·(1/3)· (0.55)^3=0.166$ "
   ]
  },
  {
   "cell_type": "markdown",
   "metadata": {},
   "source": [
    "D)"
   ]
  },
  {
   "cell_type": "markdown",
   "metadata": {},
   "source": [
    "As the question says,we are asked to calculate $f$ in the case that the probability of the student passing al three modules ,$P_1$ ,is 50%. This means that $P_1=0.5$\n",
    "We just need to use the following equation and solve for $f$:\n",
    "\n",
    "$P_1=(0.9f)^3=0.5$\n",
    "Then-->\n",
    "$f=0.882$\n"
   ]
  },
  {
   "cell_type": "markdown",
   "metadata": {},
   "source": [
    "E)\n"
   ]
  },
  {
   "cell_type": "markdown",
   "metadata": {},
   "source": [
    "No.This model is not a realistic way to model the probability that the student will pass the modules. Passing an exam depends on more factors. We had only take into account the number of classes taking by te student. However,a more realistic model must consider much more factors such as , the difficulty of the exam, the student's concetration on the exam day,the hours of study prior to the exam... Even in  some cases, the teacher corrects the grade of each student using a gaussian bell, taking into account the grade of the rest of the students."
   ]
  },
  {
   "cell_type": "code",
   "execution_count": null,
   "metadata": {},
   "outputs": [],
   "source": [
    "#Source: Mainly the chapter 2 notebook from learning central.43Basic probability rules. Basic probabilty axioms and Bayes Theorem"
   ]
  },
  {
   "cell_type": "markdown",
   "metadata": {},
   "source": [
    "##  QUESTION 2"
   ]
  },
  {
   "cell_type": "markdown",
   "metadata": {},
   "source": [
    "A group researching cancer have previously found that the genetic marker D3 is a useful indication that a person will develop the more aggressive form of melanoma skin cancer, in that D3 is present in 65% of the aggressive cases. However the test is expensive.  A rival group claim that the marker M23 is more sensitive than D3, and works out considerably cheaper to test for. The rival research team manage to get DNA samples from 7 patients with the aggressive form of the disease, all of whom test positive for the genetic marker M23. Based on these results, is M23 a better marker for the disease than D3? \n",
    "\n",
    "Give full mathematical working for your reasoning, and show labeled plots of the underlying functions.    \n",
    "\n",
    "**[20 marks]**"
   ]
  },
  {
   "cell_type": "markdown",
   "metadata": {},
   "source": [
    "**Answer:**"
   ]
  },
  {
   "cell_type": "markdown",
   "metadata": {},
   "source": [
    "The marker is professed to be a proficient marker just on the premise that it is available in each of the 7 tested patients with a forceful type of the illness. \n",
    "\n",
    "There are two-overlap issues with this end. \n",
    "\n",
    "Initially, the example size of the examination is too little to even think about concluding anything. It might have too been conceivable that the example picked is exceptionally one-sided and henceforth each of the 7 patients had the marker. So as to make a determination about the populace, the example ought to be sufficiently huge and arbitrarily examined to speak to the populace. \n",
    "\n",
    "Besides, for a marker to be powerful, it ought to be available more frequently in patients with the infection than in individuals who don't have the sickness. Here, the data given is just for the individuals who have the infection. The predominance of this marker in the individuals who don't have infection isn't given. \n",
    "\n",
    "In this manner, the end drawn is mistaken, and suitable tests should be led to approve it.\n",
    "\n"
   ]
  },
  {
   "cell_type": "code",
   "execution_count": 1,
   "metadata": {},
   "outputs": [],
   "source": [
    "#Source: Learning Central Jupyter Chapters"
   ]
  },
  {
   "cell_type": "markdown",
   "metadata": {},
   "source": [
    "***"
   ]
  },
  {
   "cell_type": "markdown",
   "metadata": {},
   "source": [
    "## QUESTION 3 "
   ]
  },
  {
   "cell_type": "markdown",
   "metadata": {},
   "source": [
    "A computer chip manufacturer suspects that roughly half of its latest batch of CPUs contains a flaw.  The accounts department are clearly concerned, and are trying to predict how the fault will affect the number of customers returning products. How many CPUs from the batch would they need to examine to know the probability that any given CPU is faulty to better than 2.5%?\n",
    "\n",
    "Tip: think carefully about what you are trying to estimate here, you want the *error in your success probability* to be less than 2.5%.\n",
    "\n",
    "**[15 marks]**"
   ]
  },
  {
   "cell_type": "markdown",
   "metadata": {},
   "source": [
    "**Answer:**"
   ]
  },
  {
   "cell_type": "markdown",
   "metadata": {},
   "source": [
    "\"Roughly half of its latest batch of CPUs contains a flaw.\", With that info, we can approximate the proportion of flawed CPUs as  $P=0.5$ \n",
    "This means that The margin of error in a sucess probability is given by:\n",
    "\n",
    "$ error in success probability=t({\\alpha}/2)·\\sqrt {\\dfrac{P·(1-P)}{n_{CPU}}}$\n",
    "\n",
    "From NHST theory,we will use the p-value, this will be usefull to determine the significance of your result .We will take  significance level $\\alpha=0.05$. Using t-student chart table( https://web.stanford.edu/dept/radiology/cgi-bin/classes/stats_data_analysis/lesson_4/234_5_e.html) we can find that the t-student value takes  $t({\\alpha}/2) =1.96 $\n",
    "\n",
    "Finding the probability that any given CPU is faulty to better than 2.5% means that the margin of errror should be less than 0.025\n",
    "\n",
    "$0.025>1.96·\\sqrt {\\dfrac{0.5·(1-0.5)}{n_{CPU}}} $\n",
    "\n",
    "Thus,solving for $n_{CPU}$:\n",
    "\n",
    "$n_{CPU}=\\dfrac{(1.96)^2}{(0.025)^2}·(0.5)^2= \\left(\\dfrac{(1.96)·(0.05)}{0.025} \\right)^2$\n",
    "\n",
    "$n_{CPU}=1536.64$ --> Thus, (number of CPUs can not be decimal) --> $n_{CPU}=1537$\n",
    "\n",
    "\n",
    "\n",
    "So They would need to examine at least  1537 (or more)  CPUs."
   ]
  },
  {
   "cell_type": "code",
   "execution_count": null,
   "metadata": {},
   "outputs": [],
   "source": [
    "#Source: Mainly the chapter 4 notebook from learning central.How to interpret a correlation statistic.\n",
    "#Classic hypothesis testing and confidence intervals. How to interpret a confidence interval."
   ]
  },
  {
   "cell_type": "markdown",
   "metadata": {},
   "source": [
    "***"
   ]
  },
  {
   "cell_type": "markdown",
   "metadata": {},
   "source": [
    "## QUESTION 4 "
   ]
  },
  {
   "cell_type": "markdown",
   "metadata": {},
   "source": [
    "The state of Florida is thinking of relaxing its policy on alcohol sales, to allow supermarkets to sell hard alcohol, since the police predict that this can reduce violence. After some extensive polling, they find that only 33% and 8% of Republican and Independent voters are, respectively, behind the change in the law, while 78% of the Democrat voters are in favour.  You are visiting the state, and ask a Police Officer what she thinks of the idea. She says she’s against the change to the law. What is the probability that she votes Democrat?\n",
    "\n",
    "\n",
    "You may assume that voting in the Florida polls that year was split in the following way: 40% Democrat and 36% Republican. You can also assume that Independent covers everything that is not Republican or Democrat. \n",
    "\n",
    "**[25 marks]**"
   ]
  },
  {
   "cell_type": "markdown",
   "metadata": {},
   "source": [
    "**Answer:**"
   ]
  },
  {
   "cell_type": "markdown",
   "metadata": {},
   "source": [
    "First,we will define the notation that will be used for solving the problem:\n",
    "\n",
    "D:Democrat Voters\n",
    "\n",
    "R:Republican Voters\n",
    "\n",
    "I: Independent Voters\n",
    "\n",
    "Using the question's last line assumption,the probabilities are:\n",
    "\n",
    "$P(D)=0.40$\n",
    "\n",
    "$P(R)=0.36$\n",
    "\n",
    "$P(I)=1-(P(D)+P(R))=(1-0.40-0.36)=0.24$\n",
    "\n",
    "As the problem says, D,R or I could be either at favour or against the idea of changing the Law at the state of Florida. Thus, We will define \n",
    "\n",
    "Y(yes): Favour\n",
    "\n",
    "N(no): Against\n",
    "\n",
    "Before answering the question we need,using the  information provided, to calculate the following probabilities  :\n",
    "\n",
    "\n",
    "$P(Y | D)=0.78$\n",
    "\n",
    "$P(N | D)=1-0.78=0.22$\n",
    "\n",
    "$P(Y | R)=0.33$\n",
    "\n",
    "$P(N | R)=1-0.33=0.67$\n",
    "\n",
    "$P(Y | I)=0.08$\n",
    "\n",
    "$P(N | I)=1-0.08=0.92$\n",
    "\n",
    "\n",
    "For this excercises we will be using the Bayes's theorem formula(notabook chapter 2)\n",
    "\n",
    "$P(A | B)   = \\dfrac{P(B | A) P(A)} {  P(B | A)P(A) + P(B|A^c)P(A^c) }$\n",
    "\n",
    "\n",
    "Thus,in our case:\n",
    "\n",
    "$P(D|N)=\\dfrac{P(N | D) P(D)} {  P(N | D)P(D) + P(N|R)P(R) + P(N|I)P(I) } =0.16 $\n",
    "\n",
    "\n",
    "In conclusion,the probability that she votes Democrat is 16%"
   ]
  },
  {
   "cell_type": "code",
   "execution_count": null,
   "metadata": {},
   "outputs": [],
   "source": [
    "#Source: Mainly the chapter 2 notebook from learning central.Basic probability rules. Basic probabilty axioms and Bayes Theorem"
   ]
  },
  {
   "cell_type": "markdown",
   "metadata": {},
   "source": [
    "***"
   ]
  },
  {
   "cell_type": "markdown",
   "metadata": {},
   "source": [
    "## QUESTION 5"
   ]
  },
  {
   "cell_type": "markdown",
   "metadata": {},
   "source": [
    "Ten new recruits for a basketball team are timed (in secs) in running the 100 meters and 1,500m races to determine how fast they can run. The following results were obtained,\n",
    "\n",
    "| Distance | 1 | 2 | 3 | 4 | 5 | 6 | 7 | 8 |9 | 10 |  \n",
    "| --- | --- | --- | --- | --- | --- | --- | --- | --- |--- |--- |\n",
    "| 100m: | 12 | 11 | 13 | 14 |12 | 15 |12 | 16 |10 | 11 |\n",
    "| 1500m: | 280 | 290 |220 | 260 |270 | 240 |250 | 230 | 280 | 260 |\n",
    "\n",
    "What trends do we see in the data above? Are they significant? Use appropriate tests to answer this question.\n",
    "\n",
    "Please **create your own** statistical functions when answering this question. Please include any sources you have used to answer this question.  \n",
    "\n",
    "**[30 marks]**"
   ]
  },
  {
   "cell_type": "markdown",
   "metadata": {},
   "source": [
    "**Answer:**"
   ]
  },
  {
   "cell_type": "markdown",
   "metadata": {},
   "source": [
    "Since the sample size is small and we dont want to assume  anything about the underlying distribution, we \n",
    "are going to use a non paremtric test.\n",
    "First,we are gonna create both a scatter plot to try to find the trend(100m vs 1500m) running times.\n",
    "We will create these plots using the following python code(we are also going to calculate usefull statistc information within the plot):"
   ]
  },
  {
   "cell_type": "code",
   "execution_count": 4,
   "metadata": {},
   "outputs": [
    {
     "name": "stdout",
     "output_type": "stream",
     "text": [
      "The mean time for 100M   is 12.60 s\n",
      "The mean time for 1500M is  258.00 s\n",
      "the covariance between 100M and 1500M is -30.89\n",
      "Pearson r correlation is -0.708\n",
      "Spearman rho correlation is -0.740 with p-value of 0.01\n"
     ]
    },
    {
     "data": {
      "image/png": "[encoded data removed]",
      "text/plain": [
       "<Figure size 432x288 with 1 Axes>"
      ]
     },
     "metadata": {},
     "output_type": "display_data"
    }
   ],
   "source": [
    "import numpy as np\n",
    "from scipy.stats import pearsonr\n",
    "from scipy.stats import spearmanr\n",
    "import pylab as plt\n",
    "\n",
    "\n",
    "#First,we create the data arrays \n",
    "Measures_100M=[12,11,13,14,12,15,12,16,10,11]\n",
    "Measures_1500M=[280,290,220,260,270,240,250,230,280,260]\n",
    "plt.scatter(Measures_100M,Measures_1500M)\n",
    "plt.xlabel('Time for 100M (s)')\n",
    "plt.ylabel('Time for 1500M (s)')\n",
    "\n",
    "xhat = np.mean(Measures_100M)\n",
    "yhat = np.mean(Measures_1500M)\n",
    "\n",
    "# define a function that estimates covariance\n",
    "def cov(x,y,n):\n",
    "    x_hat = np.mean(x)\n",
    "    y_hat = np.mean(y)\n",
    "    return np.sum((x-x_hat)*(y-y_hat))/(n-1)\n",
    "n = len(Measures_100M)\n",
    "covar = cov(Measures_100M,Measures_1500M,n)\n",
    "corr_pearson, p_pearson = pearsonr(Measures_100M,Measures_1500M)\n",
    "corr_spearman, p_spearman =  spearmanr(Measures_100M,Measures_1500M)\n",
    "\n",
    "\n",
    "print('The mean time for 100M   is {:.2f} s'.format(xhat))\n",
    "print('The mean time for 1500M is  {:.2f} s'.format(yhat))\n",
    "print('the covariance between 100M and 1500M is {:.2f}'.format(covar))\n",
    "print('Pearson r correlation is {:.3f}'.format(corr_pearson))\n",
    "print('Spearman rho correlation is {:.3f}'.format(corr_spearman)+' with p-value of {:.2f}'.format(p_spearman))                                               "
   ]
  },
  {
   "cell_type": "markdown",
   "metadata": {},
   "source": [
    "It is pretty clear from the plot that here is a decreasing trend between 100m and 1500m times distance running. \n",
    "This means,As the time it takes for recruits to run 100M increases, the time it takes to run 1500m decreases.\n",
    "Here, we see that Spearman suggests there is  sighly more correlation  in contrast to the for Pearson’s correlation coefficient. We can see from the data could be related in a monotonic and linear way. "
   ]
  },
  {
   "cell_type": "markdown",
   "metadata": {},
   "source": [
    "We will use The least-square method.Least square estimate of the regression parameters, we will use the following python code:\n",
    "\n"
   ]
  },
  {
   "cell_type": "code",
   "execution_count": 14,
   "metadata": {},
   "outputs": [
    {
     "name": "stdout",
     "output_type": "stream",
     "text": [
      "The linear model is: Y = 366.11 + -8.5802X\n"
     ]
    }
   ],
   "source": [
    "import pandas as pd\n",
    "import numpy as np\n",
    "import matplotlib.pyplot as plt\n",
    "from sklearn.linear_model import LinearRegression\n",
    "from sklearn.metrics import r2_score\n",
    "import statsmodels.api as sm\n",
    "\n",
    "x = (np.array(Measures_100M)).reshape(-1,1)\n",
    "y = (np.array(Measures_1500M)).reshape(-1,1)\n",
    "\n",
    "reg = LinearRegression()\n",
    "reg.fit(x, y)\n",
    "print(\"The linear model is: Y = {:.5} + {:.5}X\".format(reg.intercept_[0], reg.coef_[0][0]))\n"
   ]
  },
  {
   "cell_type": "code",
   "execution_count": 16,
   "metadata": {},
   "outputs": [
    {
     "data": {
      "text/plain": [
       "[<matplotlib.lines.Line2D at 0x23841b6f7b8>]"
      ]
     },
     "execution_count": 16,
     "metadata": {},
     "output_type": "execute_result"
    },
    {
     "data": {
      "image/png": "[encoded data removed]",
      "text/plain": [
       "<Figure size 432x288 with 1 Axes>"
      ]
     },
     "metadata": {},
     "output_type": "display_data"
    }
   ],
   "source": [
    "predictions = reg.predict(x)\n",
    "plt.scatter(Measures_100M,Measures_1500M)\n",
    "plt.xlabel('Time for 100M (s)')\n",
    "plt.ylabel('Time for 1500M (s)')\n",
    "\n",
    "plt.plot(\n",
    "    x,\n",
    "    predictions,\n",
    "    c='blue',\n",
    "    linewidth=2\n",
    ")"
   ]
  },
  {
   "cell_type": "markdown",
   "metadata": {},
   "source": [
    "The least-square estimate of the regression model is:\n",
    "\n",
    "$Y = 366.11  -8.5802X$"
   ]
  },
  {
   "cell_type": "markdown",
   "metadata": {},
   "source": [
    "to see if the model is any good, we need to look at the R² value and the p-value from each coefficient."
   ]
  },
  {
   "cell_type": "code",
   "execution_count": 18,
   "metadata": {},
   "outputs": [
    {
     "name": "stdout",
     "output_type": "stream",
     "text": [
      "                            OLS Regression Results                            \n",
      "==============================================================================\n",
      "Dep. Variable:                      y   R-squared:                       0.501\n",
      "Model:                            OLS   Adj. R-squared:                  0.439\n",
      "Method:                 Least Squares   F-statistic:                     8.036\n",
      "Date:                Tue, 20 Oct 2020   Prob (F-statistic):             0.0220\n",
      "Time:                        18:27:45   Log-Likelihood:                -41.540\n",
      "No. Observations:                  10   AIC:                             87.08\n",
      "Df Residuals:                       8   BIC:                             87.68\n",
      "Df Model:                           1                                         \n",
      "Covariance Type:            nonrobust                                         \n",
      "==============================================================================\n",
      "                 coef    std err          t      P>|t|      [0.025      0.975]\n",
      "------------------------------------------------------------------------------\n",
      "const        366.1111     38.525      9.503      0.000     277.272     454.950\n",
      "x1            -8.5802      3.027     -2.835      0.022     -15.560      -1.600\n",
      "==============================================================================\n",
      "Omnibus:                        3.027   Durbin-Watson:                   2.446\n",
      "Prob(Omnibus):                  0.220   Jarque-Bera (JB):                1.213\n",
      "Skew:                          -0.853   Prob(JB):                        0.545\n",
      "Kurtosis:                       3.032   Cond. No.                         90.5\n",
      "==============================================================================\n",
      "\n",
      "Warnings:\n",
      "[1] Standard Errors assume that the covariance matrix of the errors is correctly specified.\n"
     ]
    },
    {
     "name": "stderr",
     "output_type": "stream",
     "text": [
      "C:\\Users\\josey\\Anaconda3\\lib\\site-packages\\scipy\\stats\\stats.py:1394: UserWarning: kurtosistest only valid for n>=20 ... continuing anyway, n=10\n",
      "  \"anyway, n=%i\" % int(n))\n"
     ]
    }
   ],
   "source": [
    "X2 = sm.add_constant(x)\n",
    "est = sm.OLS(y, X2)\n",
    "est2 = est.fit()\n",
    "print(est2.summary())"
   ]
  },
  {
   "cell_type": "markdown",
   "metadata": {},
   "source": [
    "R^2= 0.501 demonstrates that there is  not  a strong relationship between 100m and 1500m times distance running.\n",
    "Also, the F-statistic is 8.036. This is no  much greater than 1.\n",
    "We can also see  a large p-value.  We can conclude that data  is not statistically significant "
   ]
  },
  {
   "cell_type": "markdown",
   "metadata": {},
   "source": [
    "SOURCES[BIBLIOGRAPHY]:\n",
    "\n",
    "[1]Jupyter Notebooks Chapter 3,4 and 5 from Learning Central\n",
    "\n",
    "[2]https://www.investopedia.com/terms/s/statistically_significant.asp\n",
    "\n",
    "[3]https://towardsdatascience.com/linear-regression-python-implementation-ae0d95348ac4\n",
    "\n",
    "[4]https://realpython.com/linear-regression-in-python/\n",
    "\n"
   ]
  },
  {
   "cell_type": "code",
   "execution_count": null,
   "metadata": {},
   "outputs": [],
   "source": [
    "sd"
   ]
  }
 ],
 "metadata": {
  "kernelspec": {
   "display_name": "Python 3",
   "language": "python",
   "name": "python3"
  },
  "language_info": {
   "codemirror_mode": {
    "name": "ipython",
    "version": 3
   },
   "file_extension": ".py",
   "mimetype": "text/x-python",
   "name": "python",
   "nbconvert_exporter": "python",
   "pygments_lexer": "ipython3",
   "version": "3.6.5"
  }
 },
 "nbformat": 4,
 "nbformat_minor": 2
}
